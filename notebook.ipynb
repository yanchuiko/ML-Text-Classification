{
 "cells": [
  {
   "cell_type": "markdown",
   "metadata": {},
   "source": [
    "# -----------------------------------------------------------------------------"
   ]
  },
  {
   "cell_type": "markdown",
   "metadata": {},
   "source": [
    "# MOD006562 - Machine Learning"
   ]
  },
  {
   "cell_type": "markdown",
   "metadata": {},
   "source": [
    "# -----------------------------------------------------------------------------"
   ]
  },
  {
   "cell_type": "markdown",
   "metadata": {},
   "source": [
    "# Importing Core Libraries"
   ]
  },
  {
   "cell_type": "code",
   "execution_count": 549,
   "metadata": {},
   "outputs": [],
   "source": [
    "# Importing the libraries\n",
    "import numpy as np\n",
    "import pandas as pd\n",
    "import matplotlib.pyplot as plt\n",
    "import seaborn as sns"
   ]
  },
  {
   "cell_type": "markdown",
   "metadata": {},
   "source": [
    "# -----------------------------------------------------------------------------"
   ]
  },
  {
   "cell_type": "markdown",
   "metadata": {},
   "source": [
    "# Data Collection & Exploration"
   ]
  },
  {
   "cell_type": "code",
   "execution_count": 550,
   "metadata": {},
   "outputs": [],
   "source": [
    "# Load the dataset (This is News_Categories.csv, I renamed it to dataset.csv for simplicity)\n",
    "df = pd.read_csv('dataset.csv')"
   ]
  },
  {
   "cell_type": "code",
   "execution_count": 551,
   "metadata": {},
   "outputs": [
    {
     "data": {
      "text/html": [
       "<div>\n",
       "<style scoped>\n",
       "    .dataframe tbody tr th:only-of-type {\n",
       "        vertical-align: middle;\n",
       "    }\n",
       "\n",
       "    .dataframe tbody tr th {\n",
       "        vertical-align: top;\n",
       "    }\n",
       "\n",
       "    .dataframe thead th {\n",
       "        text-align: right;\n",
       "    }\n",
       "</style>\n",
       "<table border=\"1\" class=\"dataframe\">\n",
       "  <thead>\n",
       "    <tr style=\"text-align: right;\">\n",
       "      <th></th>\n",
       "      <th>category</th>\n",
       "      <th>headline</th>\n",
       "      <th>authors</th>\n",
       "      <th>link</th>\n",
       "      <th>short_description</th>\n",
       "      <th>date</th>\n",
       "    </tr>\n",
       "  </thead>\n",
       "  <tbody>\n",
       "    <tr>\n",
       "      <th>0</th>\n",
       "      <td>CRIME</td>\n",
       "      <td>There Were 2 Mass Shootings In Texas Last Week...</td>\n",
       "      <td>Melissa Jeltsen</td>\n",
       "      <td>https://www.huffingtonpost.com/entry/texas-ama...</td>\n",
       "      <td>She left her husband. He killed their children...</td>\n",
       "      <td>5/26/2018</td>\n",
       "    </tr>\n",
       "    <tr>\n",
       "      <th>1</th>\n",
       "      <td>ENTERTAINMENT</td>\n",
       "      <td>Will Smith Joins Diplo And Nicky Jam For The 2...</td>\n",
       "      <td>Andy McDonald</td>\n",
       "      <td>https://www.huffingtonpost.com/entry/will-smit...</td>\n",
       "      <td>Of course it has a song.</td>\n",
       "      <td>5/26/2018</td>\n",
       "    </tr>\n",
       "    <tr>\n",
       "      <th>2</th>\n",
       "      <td>ENTERTAINMENT</td>\n",
       "      <td>Hugh Grant Marries For The First Time At Age 57</td>\n",
       "      <td>Ron Dicker</td>\n",
       "      <td>https://www.huffingtonpost.com/entry/hugh-gran...</td>\n",
       "      <td>The actor and his longtime girlfriend Anna Ebe...</td>\n",
       "      <td>5/26/2018</td>\n",
       "    </tr>\n",
       "    <tr>\n",
       "      <th>3</th>\n",
       "      <td>ENTERTAINMENT</td>\n",
       "      <td>Jim Carrey Blasts 'Castrato' Adam Schiff And D...</td>\n",
       "      <td>Ron Dicker</td>\n",
       "      <td>https://www.huffingtonpost.com/entry/jim-carre...</td>\n",
       "      <td>The actor gives Dems an ass-kicking for not fi...</td>\n",
       "      <td>5/26/2018</td>\n",
       "    </tr>\n",
       "    <tr>\n",
       "      <th>4</th>\n",
       "      <td>ENTERTAINMENT</td>\n",
       "      <td>Julianna Margulies Uses Donald Trump Poop Bags...</td>\n",
       "      <td>Ron Dicker</td>\n",
       "      <td>https://www.huffingtonpost.com/entry/julianna-...</td>\n",
       "      <td>The \"Dietland\" actress said using the bags is ...</td>\n",
       "      <td>5/26/2018</td>\n",
       "    </tr>\n",
       "  </tbody>\n",
       "</table>\n",
       "</div>"
      ],
      "text/plain": [
       "        category                                           headline  \\\n",
       "0          CRIME  There Were 2 Mass Shootings In Texas Last Week...   \n",
       "1  ENTERTAINMENT  Will Smith Joins Diplo And Nicky Jam For The 2...   \n",
       "2  ENTERTAINMENT    Hugh Grant Marries For The First Time At Age 57   \n",
       "3  ENTERTAINMENT  Jim Carrey Blasts 'Castrato' Adam Schiff And D...   \n",
       "4  ENTERTAINMENT  Julianna Margulies Uses Donald Trump Poop Bags...   \n",
       "\n",
       "           authors                                               link  \\\n",
       "0  Melissa Jeltsen  https://www.huffingtonpost.com/entry/texas-ama...   \n",
       "1    Andy McDonald  https://www.huffingtonpost.com/entry/will-smit...   \n",
       "2       Ron Dicker  https://www.huffingtonpost.com/entry/hugh-gran...   \n",
       "3       Ron Dicker  https://www.huffingtonpost.com/entry/jim-carre...   \n",
       "4       Ron Dicker  https://www.huffingtonpost.com/entry/julianna-...   \n",
       "\n",
       "                                   short_description       date  \n",
       "0  She left her husband. He killed their children...  5/26/2018  \n",
       "1                           Of course it has a song.  5/26/2018  \n",
       "2  The actor and his longtime girlfriend Anna Ebe...  5/26/2018  \n",
       "3  The actor gives Dems an ass-kicking for not fi...  5/26/2018  \n",
       "4  The \"Dietland\" actress said using the bags is ...  5/26/2018  "
      ]
     },
     "execution_count": 551,
     "metadata": {},
     "output_type": "execute_result"
    }
   ],
   "source": [
    "# The first 5 rows of the dataset\n",
    "df.head()"
   ]
  },
  {
   "cell_type": "code",
   "execution_count": 552,
   "metadata": {},
   "outputs": [
    {
     "data": {
      "text/html": [
       "<div>\n",
       "<style scoped>\n",
       "    .dataframe tbody tr th:only-of-type {\n",
       "        vertical-align: middle;\n",
       "    }\n",
       "\n",
       "    .dataframe tbody tr th {\n",
       "        vertical-align: top;\n",
       "    }\n",
       "\n",
       "    .dataframe thead th {\n",
       "        text-align: right;\n",
       "    }\n",
       "</style>\n",
       "<table border=\"1\" class=\"dataframe\">\n",
       "  <thead>\n",
       "    <tr style=\"text-align: right;\">\n",
       "      <th></th>\n",
       "      <th>category</th>\n",
       "      <th>headline</th>\n",
       "      <th>authors</th>\n",
       "      <th>link</th>\n",
       "      <th>short_description</th>\n",
       "      <th>date</th>\n",
       "    </tr>\n",
       "  </thead>\n",
       "  <tbody>\n",
       "    <tr>\n",
       "      <th>200848</th>\n",
       "      <td>TECH</td>\n",
       "      <td>RIM CEO Thorsten Heins' 'Significant' Plans Fo...</td>\n",
       "      <td>Reuters, Reuters</td>\n",
       "      <td>https://www.huffingtonpost.com/entry/rim-ceo-t...</td>\n",
       "      <td>Verizon Wireless and AT&amp;T are already promotin...</td>\n",
       "      <td>1/28/2012</td>\n",
       "    </tr>\n",
       "    <tr>\n",
       "      <th>200849</th>\n",
       "      <td>SPORTS</td>\n",
       "      <td>Maria Sharapova Stunned By Victoria Azarenka I...</td>\n",
       "      <td>NaN</td>\n",
       "      <td>https://www.huffingtonpost.com/entry/maria-sha...</td>\n",
       "      <td>Afterward, Azarenka, more effusive with the pr...</td>\n",
       "      <td>1/28/2012</td>\n",
       "    </tr>\n",
       "    <tr>\n",
       "      <th>200850</th>\n",
       "      <td>SPORTS</td>\n",
       "      <td>Giants Over Patriots, Jets Over Colts Among  M...</td>\n",
       "      <td>NaN</td>\n",
       "      <td>https://www.huffingtonpost.com/entry/super-bow...</td>\n",
       "      <td>Leading up to Super Bowl XLVI, the most talked...</td>\n",
       "      <td>1/28/2012</td>\n",
       "    </tr>\n",
       "    <tr>\n",
       "      <th>200851</th>\n",
       "      <td>SPORTS</td>\n",
       "      <td>Aldon Smith Arrested: 49ers Linebacker Busted ...</td>\n",
       "      <td>NaN</td>\n",
       "      <td>https://www.huffingtonpost.com/entry/aldon-smi...</td>\n",
       "      <td>CORRECTION: An earlier version of this story i...</td>\n",
       "      <td>1/28/2012</td>\n",
       "    </tr>\n",
       "    <tr>\n",
       "      <th>200852</th>\n",
       "      <td>SPORTS</td>\n",
       "      <td>Dwight Howard Rips Teammates After Magic Loss ...</td>\n",
       "      <td>NaN</td>\n",
       "      <td>https://www.huffingtonpost.com/entry/dwight-ho...</td>\n",
       "      <td>The five-time all-star center tore into his te...</td>\n",
       "      <td>1/28/2012</td>\n",
       "    </tr>\n",
       "  </tbody>\n",
       "</table>\n",
       "</div>"
      ],
      "text/plain": [
       "       category                                           headline  \\\n",
       "200848     TECH  RIM CEO Thorsten Heins' 'Significant' Plans Fo...   \n",
       "200849   SPORTS  Maria Sharapova Stunned By Victoria Azarenka I...   \n",
       "200850   SPORTS  Giants Over Patriots, Jets Over Colts Among  M...   \n",
       "200851   SPORTS  Aldon Smith Arrested: 49ers Linebacker Busted ...   \n",
       "200852   SPORTS  Dwight Howard Rips Teammates After Magic Loss ...   \n",
       "\n",
       "                 authors                                               link  \\\n",
       "200848  Reuters, Reuters  https://www.huffingtonpost.com/entry/rim-ceo-t...   \n",
       "200849               NaN  https://www.huffingtonpost.com/entry/maria-sha...   \n",
       "200850               NaN  https://www.huffingtonpost.com/entry/super-bow...   \n",
       "200851               NaN  https://www.huffingtonpost.com/entry/aldon-smi...   \n",
       "200852               NaN  https://www.huffingtonpost.com/entry/dwight-ho...   \n",
       "\n",
       "                                        short_description       date  \n",
       "200848  Verizon Wireless and AT&T are already promotin...  1/28/2012  \n",
       "200849  Afterward, Azarenka, more effusive with the pr...  1/28/2012  \n",
       "200850  Leading up to Super Bowl XLVI, the most talked...  1/28/2012  \n",
       "200851  CORRECTION: An earlier version of this story i...  1/28/2012  \n",
       "200852  The five-time all-star center tore into his te...  1/28/2012  "
      ]
     },
     "execution_count": 552,
     "metadata": {},
     "output_type": "execute_result"
    }
   ],
   "source": [
    "# The last 5 rows of the dataset\n",
    "df.tail()"
   ]
  },
  {
   "cell_type": "code",
   "execution_count": 553,
   "metadata": {},
   "outputs": [
    {
     "data": {
      "text/plain": [
       "(200853, 6)"
      ]
     },
     "execution_count": 553,
     "metadata": {},
     "output_type": "execute_result"
    }
   ],
   "source": [
    "# Rows and Columns of the dataset\n",
    "df.shape"
   ]
  },
  {
   "cell_type": "code",
   "execution_count": 554,
   "metadata": {},
   "outputs": [
    {
     "name": "stdout",
     "output_type": "stream",
     "text": [
      "<class 'pandas.core.frame.DataFrame'>\n",
      "Index: 200853 entries, 0 to 200852\n",
      "Data columns (total 6 columns):\n",
      " #   Column             Non-Null Count   Dtype \n",
      "---  ------             --------------   ----- \n",
      " 0   category           200853 non-null  object\n",
      " 1   headline           200847 non-null  object\n",
      " 2   authors            164233 non-null  object\n",
      " 3   link               200853 non-null  object\n",
      " 4   short_description  181141 non-null  object\n",
      " 5   date               200853 non-null  object\n",
      "dtypes: object(6)\n",
      "memory usage: 10.7+ MB\n"
     ]
    }
   ],
   "source": [
    "# Info about the dataset\n",
    "df.info()"
   ]
  },
  {
   "cell_type": "code",
   "execution_count": 555,
   "metadata": {},
   "outputs": [
    {
     "data": {
      "text/html": [
       "<div>\n",
       "<style scoped>\n",
       "    .dataframe tbody tr th:only-of-type {\n",
       "        vertical-align: middle;\n",
       "    }\n",
       "\n",
       "    .dataframe tbody tr th {\n",
       "        vertical-align: top;\n",
       "    }\n",
       "\n",
       "    .dataframe thead th {\n",
       "        text-align: right;\n",
       "    }\n",
       "</style>\n",
       "<table border=\"1\" class=\"dataframe\">\n",
       "  <thead>\n",
       "    <tr style=\"text-align: right;\">\n",
       "      <th></th>\n",
       "      <th>category</th>\n",
       "      <th>headline</th>\n",
       "      <th>authors</th>\n",
       "      <th>link</th>\n",
       "      <th>short_description</th>\n",
       "      <th>date</th>\n",
       "    </tr>\n",
       "  </thead>\n",
       "  <tbody>\n",
       "    <tr>\n",
       "      <th>count</th>\n",
       "      <td>200853</td>\n",
       "      <td>200847</td>\n",
       "      <td>164233</td>\n",
       "      <td>200853</td>\n",
       "      <td>181141</td>\n",
       "      <td>200853</td>\n",
       "    </tr>\n",
       "    <tr>\n",
       "      <th>unique</th>\n",
       "      <td>41</td>\n",
       "      <td>199343</td>\n",
       "      <td>27992</td>\n",
       "      <td>200812</td>\n",
       "      <td>178333</td>\n",
       "      <td>2309</td>\n",
       "    </tr>\n",
       "    <tr>\n",
       "      <th>top</th>\n",
       "      <td>POLITICS</td>\n",
       "      <td>Sunday Roundup</td>\n",
       "      <td>Lee Moran</td>\n",
       "      <td>https://www.huffingtonpost.comhttp://stylelike...</td>\n",
       "      <td>Welcome to the HuffPost Rise Morning Newsbrief...</td>\n",
       "      <td>4/24/2013</td>\n",
       "    </tr>\n",
       "    <tr>\n",
       "      <th>freq</th>\n",
       "      <td>32739</td>\n",
       "      <td>90</td>\n",
       "      <td>2423</td>\n",
       "      <td>2</td>\n",
       "      <td>192</td>\n",
       "      <td>100</td>\n",
       "    </tr>\n",
       "  </tbody>\n",
       "</table>\n",
       "</div>"
      ],
      "text/plain": [
       "        category        headline    authors  \\\n",
       "count     200853          200847     164233   \n",
       "unique        41          199343      27992   \n",
       "top     POLITICS  Sunday Roundup  Lee Moran   \n",
       "freq       32739              90       2423   \n",
       "\n",
       "                                                     link  \\\n",
       "count                                              200853   \n",
       "unique                                             200812   \n",
       "top     https://www.huffingtonpost.comhttp://stylelike...   \n",
       "freq                                                    2   \n",
       "\n",
       "                                        short_description       date  \n",
       "count                                              181141     200853  \n",
       "unique                                             178333       2309  \n",
       "top     Welcome to the HuffPost Rise Morning Newsbrief...  4/24/2013  \n",
       "freq                                                  192        100  "
      ]
     },
     "execution_count": 555,
     "metadata": {},
     "output_type": "execute_result"
    }
   ],
   "source": [
    "# Statistical summary of the dataset\n",
    "df.describe()"
   ]
  },
  {
   "cell_type": "code",
   "execution_count": 556,
   "metadata": {},
   "outputs": [
    {
     "data": {
      "text/plain": [
       "category                 0\n",
       "headline                 6\n",
       "authors              36620\n",
       "link                     0\n",
       "short_description    19712\n",
       "date                     0\n",
       "dtype: int64"
      ]
     },
     "execution_count": 556,
     "metadata": {},
     "output_type": "execute_result"
    }
   ],
   "source": [
    "# Checking for Null Values\n",
    "df.isnull().sum()"
   ]
  },
  {
   "cell_type": "code",
   "execution_count": 557,
   "metadata": {},
   "outputs": [
    {
     "data": {
      "text/plain": [
       "13"
      ]
     },
     "execution_count": 557,
     "metadata": {},
     "output_type": "execute_result"
    }
   ],
   "source": [
    "# Checking for Duplicates\n",
    "df.duplicated().sum()"
   ]
  },
  {
   "cell_type": "markdown",
   "metadata": {},
   "source": [
    "# -----------------------------------------------------------------------------"
   ]
  },
  {
   "cell_type": "markdown",
   "metadata": {},
   "source": [
    "# Data Pre-processing & Preparation"
   ]
  },
  {
   "cell_type": "code",
   "execution_count": 558,
   "metadata": {},
   "outputs": [
    {
     "data": {
      "text/plain": [
       "category             0\n",
       "headline             0\n",
       "authors              0\n",
       "link                 0\n",
       "short_description    0\n",
       "date                 0\n",
       "dtype: int64"
      ]
     },
     "execution_count": 558,
     "metadata": {},
     "output_type": "execute_result"
    }
   ],
   "source": [
    "# Drop Null Values\n",
    "df = df.dropna()\n",
    "df.isnull().sum()"
   ]
  },
  {
   "cell_type": "code",
   "execution_count": 559,
   "metadata": {},
   "outputs": [
    {
     "data": {
      "text/plain": [
       "0"
      ]
     },
     "execution_count": 559,
     "metadata": {},
     "output_type": "execute_result"
    }
   ],
   "source": [
    "# Drop Duplicates\n",
    "df = df.drop_duplicates()\n",
    "df.duplicated().sum()"
   ]
  },
  {
   "cell_type": "code",
   "execution_count": 560,
   "metadata": {},
   "outputs": [],
   "source": [
    "# Drop unnecessary columns: authors, link, date\n",
    "df = df.drop(['authors', 'link', 'date'], axis=1)"
   ]
  },
  {
   "cell_type": "code",
   "execution_count": 561,
   "metadata": {},
   "outputs": [
    {
     "data": {
      "text/html": [
       "<div>\n",
       "<style scoped>\n",
       "    .dataframe tbody tr th:only-of-type {\n",
       "        vertical-align: middle;\n",
       "    }\n",
       "\n",
       "    .dataframe tbody tr th {\n",
       "        vertical-align: top;\n",
       "    }\n",
       "\n",
       "    .dataframe thead th {\n",
       "        text-align: right;\n",
       "    }\n",
       "</style>\n",
       "<table border=\"1\" class=\"dataframe\">\n",
       "  <thead>\n",
       "    <tr style=\"text-align: right;\">\n",
       "      <th></th>\n",
       "      <th>category</th>\n",
       "      <th>headline</th>\n",
       "      <th>short_description</th>\n",
       "    </tr>\n",
       "  </thead>\n",
       "  <tbody>\n",
       "    <tr>\n",
       "      <th>0</th>\n",
       "      <td>CRIME</td>\n",
       "      <td>There Were 2 Mass Shootings In Texas Last Week...</td>\n",
       "      <td>She left her husband. He killed their children...</td>\n",
       "    </tr>\n",
       "    <tr>\n",
       "      <th>1</th>\n",
       "      <td>ENTERTAINMENT</td>\n",
       "      <td>Will Smith Joins Diplo And Nicky Jam For The 2...</td>\n",
       "      <td>Of course it has a song.</td>\n",
       "    </tr>\n",
       "    <tr>\n",
       "      <th>2</th>\n",
       "      <td>ENTERTAINMENT</td>\n",
       "      <td>Hugh Grant Marries For The First Time At Age 57</td>\n",
       "      <td>The actor and his longtime girlfriend Anna Ebe...</td>\n",
       "    </tr>\n",
       "    <tr>\n",
       "      <th>3</th>\n",
       "      <td>ENTERTAINMENT</td>\n",
       "      <td>Jim Carrey Blasts 'Castrato' Adam Schiff And D...</td>\n",
       "      <td>The actor gives Dems an ass-kicking for not fi...</td>\n",
       "    </tr>\n",
       "    <tr>\n",
       "      <th>4</th>\n",
       "      <td>ENTERTAINMENT</td>\n",
       "      <td>Julianna Margulies Uses Donald Trump Poop Bags...</td>\n",
       "      <td>The \"Dietland\" actress said using the bags is ...</td>\n",
       "    </tr>\n",
       "    <tr>\n",
       "      <th>...</th>\n",
       "      <td>...</td>\n",
       "      <td>...</td>\n",
       "      <td>...</td>\n",
       "    </tr>\n",
       "    <tr>\n",
       "      <th>200843</th>\n",
       "      <td>TECH</td>\n",
       "      <td>Good Games -- Is It possible?</td>\n",
       "      <td>I don't think people who play Zynga games are ...</td>\n",
       "    </tr>\n",
       "    <tr>\n",
       "      <th>200844</th>\n",
       "      <td>TECH</td>\n",
       "      <td>Google+ Now Open for Teens With Some Safeguards</td>\n",
       "      <td>For the most part, teens' experience on Google...</td>\n",
       "    </tr>\n",
       "    <tr>\n",
       "      <th>200845</th>\n",
       "      <td>TECH</td>\n",
       "      <td>Web Wars</td>\n",
       "      <td>These \"Web Wars\" threaten to rage on for some ...</td>\n",
       "    </tr>\n",
       "    <tr>\n",
       "      <th>200847</th>\n",
       "      <td>TECH</td>\n",
       "      <td>Watch The Top 9 YouTube Videos Of The Week</td>\n",
       "      <td>If you're looking to see the most popular YouT...</td>\n",
       "    </tr>\n",
       "    <tr>\n",
       "      <th>200848</th>\n",
       "      <td>TECH</td>\n",
       "      <td>RIM CEO Thorsten Heins' 'Significant' Plans Fo...</td>\n",
       "      <td>Verizon Wireless and AT&amp;T are already promotin...</td>\n",
       "    </tr>\n",
       "  </tbody>\n",
       "</table>\n",
       "<p>148983 rows × 3 columns</p>\n",
       "</div>"
      ],
      "text/plain": [
       "             category                                           headline  \\\n",
       "0               CRIME  There Were 2 Mass Shootings In Texas Last Week...   \n",
       "1       ENTERTAINMENT  Will Smith Joins Diplo And Nicky Jam For The 2...   \n",
       "2       ENTERTAINMENT    Hugh Grant Marries For The First Time At Age 57   \n",
       "3       ENTERTAINMENT  Jim Carrey Blasts 'Castrato' Adam Schiff And D...   \n",
       "4       ENTERTAINMENT  Julianna Margulies Uses Donald Trump Poop Bags...   \n",
       "...               ...                                                ...   \n",
       "200843           TECH                      Good Games -- Is It possible?   \n",
       "200844           TECH    Google+ Now Open for Teens With Some Safeguards   \n",
       "200845           TECH                                           Web Wars   \n",
       "200847           TECH         Watch The Top 9 YouTube Videos Of The Week   \n",
       "200848           TECH  RIM CEO Thorsten Heins' 'Significant' Plans Fo...   \n",
       "\n",
       "                                        short_description  \n",
       "0       She left her husband. He killed their children...  \n",
       "1                                Of course it has a song.  \n",
       "2       The actor and his longtime girlfriend Anna Ebe...  \n",
       "3       The actor gives Dems an ass-kicking for not fi...  \n",
       "4       The \"Dietland\" actress said using the bags is ...  \n",
       "...                                                   ...  \n",
       "200843  I don't think people who play Zynga games are ...  \n",
       "200844  For the most part, teens' experience on Google...  \n",
       "200845  These \"Web Wars\" threaten to rage on for some ...  \n",
       "200847  If you're looking to see the most popular YouT...  \n",
       "200848  Verizon Wireless and AT&T are already promotin...  \n",
       "\n",
       "[148983 rows x 3 columns]"
      ]
     },
     "execution_count": 561,
     "metadata": {},
     "output_type": "execute_result"
    }
   ],
   "source": [
    "# Display the updated dataset\n",
    "df"
   ]
  },
  {
   "cell_type": "code",
   "execution_count": 562,
   "metadata": {},
   "outputs": [],
   "source": [
    "# Merge headline and short_description into one column called 'text'\n",
    "df['text'] = df['headline'] + ' ' + df['short_description']\n",
    "\n",
    "# Drop headline and short_description columns because they are no longer needed\n",
    "df = df.drop(['headline', 'short_description'], axis=1)"
   ]
  },
  {
   "cell_type": "code",
   "execution_count": 563,
   "metadata": {},
   "outputs": [
    {
     "data": {
      "text/html": [
       "<div>\n",
       "<style scoped>\n",
       "    .dataframe tbody tr th:only-of-type {\n",
       "        vertical-align: middle;\n",
       "    }\n",
       "\n",
       "    .dataframe tbody tr th {\n",
       "        vertical-align: top;\n",
       "    }\n",
       "\n",
       "    .dataframe thead th {\n",
       "        text-align: right;\n",
       "    }\n",
       "</style>\n",
       "<table border=\"1\" class=\"dataframe\">\n",
       "  <thead>\n",
       "    <tr style=\"text-align: right;\">\n",
       "      <th></th>\n",
       "      <th>category</th>\n",
       "      <th>text</th>\n",
       "    </tr>\n",
       "  </thead>\n",
       "  <tbody>\n",
       "    <tr>\n",
       "      <th>0</th>\n",
       "      <td>CRIME</td>\n",
       "      <td>There Were 2 Mass Shootings In Texas Last Week...</td>\n",
       "    </tr>\n",
       "    <tr>\n",
       "      <th>1</th>\n",
       "      <td>ENTERTAINMENT</td>\n",
       "      <td>Will Smith Joins Diplo And Nicky Jam For The 2...</td>\n",
       "    </tr>\n",
       "    <tr>\n",
       "      <th>2</th>\n",
       "      <td>ENTERTAINMENT</td>\n",
       "      <td>Hugh Grant Marries For The First Time At Age 5...</td>\n",
       "    </tr>\n",
       "    <tr>\n",
       "      <th>3</th>\n",
       "      <td>ENTERTAINMENT</td>\n",
       "      <td>Jim Carrey Blasts 'Castrato' Adam Schiff And D...</td>\n",
       "    </tr>\n",
       "    <tr>\n",
       "      <th>4</th>\n",
       "      <td>ENTERTAINMENT</td>\n",
       "      <td>Julianna Margulies Uses Donald Trump Poop Bags...</td>\n",
       "    </tr>\n",
       "    <tr>\n",
       "      <th>...</th>\n",
       "      <td>...</td>\n",
       "      <td>...</td>\n",
       "    </tr>\n",
       "    <tr>\n",
       "      <th>200843</th>\n",
       "      <td>TECH</td>\n",
       "      <td>Good Games -- Is It possible? I don't think pe...</td>\n",
       "    </tr>\n",
       "    <tr>\n",
       "      <th>200844</th>\n",
       "      <td>TECH</td>\n",
       "      <td>Google+ Now Open for Teens With Some Safeguard...</td>\n",
       "    </tr>\n",
       "    <tr>\n",
       "      <th>200845</th>\n",
       "      <td>TECH</td>\n",
       "      <td>Web Wars These \"Web Wars\" threaten to rage on ...</td>\n",
       "    </tr>\n",
       "    <tr>\n",
       "      <th>200847</th>\n",
       "      <td>TECH</td>\n",
       "      <td>Watch The Top 9 YouTube Videos Of The Week If ...</td>\n",
       "    </tr>\n",
       "    <tr>\n",
       "      <th>200848</th>\n",
       "      <td>TECH</td>\n",
       "      <td>RIM CEO Thorsten Heins' 'Significant' Plans Fo...</td>\n",
       "    </tr>\n",
       "  </tbody>\n",
       "</table>\n",
       "<p>148983 rows × 2 columns</p>\n",
       "</div>"
      ],
      "text/plain": [
       "             category                                               text\n",
       "0               CRIME  There Were 2 Mass Shootings In Texas Last Week...\n",
       "1       ENTERTAINMENT  Will Smith Joins Diplo And Nicky Jam For The 2...\n",
       "2       ENTERTAINMENT  Hugh Grant Marries For The First Time At Age 5...\n",
       "3       ENTERTAINMENT  Jim Carrey Blasts 'Castrato' Adam Schiff And D...\n",
       "4       ENTERTAINMENT  Julianna Margulies Uses Donald Trump Poop Bags...\n",
       "...               ...                                                ...\n",
       "200843           TECH  Good Games -- Is It possible? I don't think pe...\n",
       "200844           TECH  Google+ Now Open for Teens With Some Safeguard...\n",
       "200845           TECH  Web Wars These \"Web Wars\" threaten to rage on ...\n",
       "200847           TECH  Watch The Top 9 YouTube Videos Of The Week If ...\n",
       "200848           TECH  RIM CEO Thorsten Heins' 'Significant' Plans Fo...\n",
       "\n",
       "[148983 rows x 2 columns]"
      ]
     },
     "execution_count": 563,
     "metadata": {},
     "output_type": "execute_result"
    }
   ],
   "source": [
    "# Display the updated dataset\n",
    "df"
   ]
  },
  {
   "cell_type": "code",
   "execution_count": 564,
   "metadata": {},
   "outputs": [
    {
     "data": {
      "text/plain": [
       "array(['CRIME', 'ENTERTAINMENT', 'IMPACT', 'POLITICS', 'WEIRD NEWS',\n",
       "       'WORLD NEWS', 'BLACK VOICES', 'WOMEN', 'COMEDY', 'QUEER VOICES',\n",
       "       'SPORTS', 'BUSINESS', 'TRAVEL', 'MEDIA', 'TECH', 'RELIGION',\n",
       "       'LATINO VOICES', 'SCIENCE', 'EDUCATION', 'COLLEGE', 'PARENTS',\n",
       "       'ARTS & CULTURE', 'STYLE', 'GREEN', 'TASTE', 'HEALTHY LIVING',\n",
       "       'THE WORLDPOST', 'GOOD NEWS', 'WORLDPOST', 'FIFTY', 'ARTS',\n",
       "       'WELLNESS', 'PARENTING', 'HOME & LIVING', 'STYLE & BEAUTY',\n",
       "       'WEDDINGS', 'FOOD & DRINK', 'DIVORCE', 'MONEY', 'ENVIRONMENT',\n",
       "       'CULTURE & ARTS'], dtype=object)"
      ]
     },
     "execution_count": 564,
     "metadata": {},
     "output_type": "execute_result"
    }
   ],
   "source": [
    "# Display the unique categories\n",
    "df['category'].unique()"
   ]
  },
  {
   "cell_type": "code",
   "execution_count": 565,
   "metadata": {},
   "outputs": [
    {
     "data": {
      "text/plain": [
       "41"
      ]
     },
     "execution_count": 565,
     "metadata": {},
     "output_type": "execute_result"
    }
   ],
   "source": [
    "# Display the number of unique categories\n",
    "df['category'].nunique()"
   ]
  },
  {
   "cell_type": "code",
   "execution_count": 566,
   "metadata": {},
   "outputs": [],
   "source": [
    "# Array of culture and arts categories\n",
    "culture_arts_categories = ['ARTS', 'CULTURE & ARTS', 'ARTS & CULTURE']\n",
    "\n",
    "# Array of news categories\n",
    "news_categories = ['WEIRD NEWS', 'WORLD NEWS', 'GOOD NEWS']\n",
    "\n",
    "# Array of voices categories\n",
    "voices_categories = ['LATINO VOICES', 'BLACK VOICES', 'QUEER VOICES']\n",
    "\n",
    "# Bundle the culture and arts categories into one category called 'CULTURE & ARTS'\n",
    "df['category'] = df['category'].replace(culture_arts_categories, 'CULTURE & ARTS')\n",
    "\n",
    "# Bundle the news categories into one category called 'NEWS'\n",
    "df['category'] = df['category'].replace(news_categories, 'NEWS')\n",
    "\n",
    "# Bundle the voices categories into one category called 'VOICES'\n",
    "df['category'] = df['category'].replace(voices_categories, 'VOICES')"
   ]
  },
  {
   "cell_type": "code",
   "execution_count": 567,
   "metadata": {},
   "outputs": [],
   "source": [
    "# Merge categories with the same or similar meaning\n",
    "df['category'] = df['category'].replace('STYLE & BEAUTY', 'STYLE')\n",
    "df['category'] = df['category'].replace('PARENTING', 'PARENTS')\n",
    "df['category'] = df['category'].replace('COLLEGE', 'EDUCATION')\n",
    "df['category'] = df['category'].replace('TASTE', 'FOOD & DRINK')\n",
    "df['category'] = df['category'].replace('DIVORCE', 'WEDDINGS')\n",
    "df['category'] = df['category'].replace('MONEY', 'BUSINESS')\n",
    "df['category'] = df['category'].replace('HEALTHY LIVING', 'WELLNESS')\n",
    "df['category'] = df['category'].replace('THE WORLDPOST', 'WORLDPOST')\n",
    "df['category'] = df['category'].replace('WORLDPOST', 'NEWS')"
   ]
  },
  {
   "cell_type": "code",
   "execution_count": 568,
   "metadata": {},
   "outputs": [],
   "source": [
    "# Drop trash categories\n",
    "trash_categories = ['GREEN', 'FIFTY']\n",
    "df = df[~df['category'].isin(trash_categories)]"
   ]
  },
  {
   "cell_type": "code",
   "execution_count": 569,
   "metadata": {},
   "outputs": [
    {
     "data": {
      "text/plain": [
       "array(['CRIME', 'ENTERTAINMENT', 'IMPACT', 'POLITICS', 'NEWS', 'VOICES',\n",
       "       'WOMEN', 'COMEDY', 'SPORTS', 'BUSINESS', 'TRAVEL', 'MEDIA', 'TECH',\n",
       "       'RELIGION', 'SCIENCE', 'EDUCATION', 'PARENTS', 'CULTURE & ARTS',\n",
       "       'STYLE', 'FOOD & DRINK', 'WELLNESS', 'HOME & LIVING', 'WEDDINGS',\n",
       "       'ENVIRONMENT'], dtype=object)"
      ]
     },
     "execution_count": 569,
     "metadata": {},
     "output_type": "execute_result"
    }
   ],
   "source": [
    "# Display the unique categories\n",
    "df['category'].unique()"
   ]
  },
  {
   "cell_type": "code",
   "execution_count": 570,
   "metadata": {},
   "outputs": [
    {
     "data": {
      "text/plain": [
       "24"
      ]
     },
     "execution_count": 570,
     "metadata": {},
     "output_type": "execute_result"
    }
   ],
   "source": [
    "# Display the number of unique categories\n",
    "df['category'].nunique()"
   ]
  },
  {
   "cell_type": "code",
   "execution_count": 571,
   "metadata": {},
   "outputs": [
    {
     "data": {
      "text/html": [
       "<div>\n",
       "<style scoped>\n",
       "    .dataframe tbody tr th:only-of-type {\n",
       "        vertical-align: middle;\n",
       "    }\n",
       "\n",
       "    .dataframe tbody tr th {\n",
       "        vertical-align: top;\n",
       "    }\n",
       "\n",
       "    .dataframe thead th {\n",
       "        text-align: right;\n",
       "    }\n",
       "</style>\n",
       "<table border=\"1\" class=\"dataframe\">\n",
       "  <thead>\n",
       "    <tr style=\"text-align: right;\">\n",
       "      <th></th>\n",
       "      <th>category</th>\n",
       "      <th>text</th>\n",
       "    </tr>\n",
       "  </thead>\n",
       "  <tbody>\n",
       "    <tr>\n",
       "      <th>0</th>\n",
       "      <td>CRIME</td>\n",
       "      <td>There Were 2 Mass Shootings In Texas Last Week...</td>\n",
       "    </tr>\n",
       "    <tr>\n",
       "      <th>1</th>\n",
       "      <td>ENTERTAINMENT</td>\n",
       "      <td>Will Smith Joins Diplo And Nicky Jam For The 2...</td>\n",
       "    </tr>\n",
       "    <tr>\n",
       "      <th>2</th>\n",
       "      <td>ENTERTAINMENT</td>\n",
       "      <td>Hugh Grant Marries For The First Time At Age 5...</td>\n",
       "    </tr>\n",
       "    <tr>\n",
       "      <th>3</th>\n",
       "      <td>ENTERTAINMENT</td>\n",
       "      <td>Jim Carrey Blasts 'Castrato' Adam Schiff And D...</td>\n",
       "    </tr>\n",
       "    <tr>\n",
       "      <th>4</th>\n",
       "      <td>ENTERTAINMENT</td>\n",
       "      <td>Julianna Margulies Uses Donald Trump Poop Bags...</td>\n",
       "    </tr>\n",
       "    <tr>\n",
       "      <th>...</th>\n",
       "      <td>...</td>\n",
       "      <td>...</td>\n",
       "    </tr>\n",
       "    <tr>\n",
       "      <th>200843</th>\n",
       "      <td>TECH</td>\n",
       "      <td>Good Games -- Is It possible? I don't think pe...</td>\n",
       "    </tr>\n",
       "    <tr>\n",
       "      <th>200844</th>\n",
       "      <td>TECH</td>\n",
       "      <td>Google+ Now Open for Teens With Some Safeguard...</td>\n",
       "    </tr>\n",
       "    <tr>\n",
       "      <th>200845</th>\n",
       "      <td>TECH</td>\n",
       "      <td>Web Wars These \"Web Wars\" threaten to rage on ...</td>\n",
       "    </tr>\n",
       "    <tr>\n",
       "      <th>200847</th>\n",
       "      <td>TECH</td>\n",
       "      <td>Watch The Top 9 YouTube Videos Of The Week If ...</td>\n",
       "    </tr>\n",
       "    <tr>\n",
       "      <th>200848</th>\n",
       "      <td>TECH</td>\n",
       "      <td>RIM CEO Thorsten Heins' 'Significant' Plans Fo...</td>\n",
       "    </tr>\n",
       "  </tbody>\n",
       "</table>\n",
       "<p>146259 rows × 2 columns</p>\n",
       "</div>"
      ],
      "text/plain": [
       "             category                                               text\n",
       "0               CRIME  There Were 2 Mass Shootings In Texas Last Week...\n",
       "1       ENTERTAINMENT  Will Smith Joins Diplo And Nicky Jam For The 2...\n",
       "2       ENTERTAINMENT  Hugh Grant Marries For The First Time At Age 5...\n",
       "3       ENTERTAINMENT  Jim Carrey Blasts 'Castrato' Adam Schiff And D...\n",
       "4       ENTERTAINMENT  Julianna Margulies Uses Donald Trump Poop Bags...\n",
       "...               ...                                                ...\n",
       "200843           TECH  Good Games -- Is It possible? I don't think pe...\n",
       "200844           TECH  Google+ Now Open for Teens With Some Safeguard...\n",
       "200845           TECH  Web Wars These \"Web Wars\" threaten to rage on ...\n",
       "200847           TECH  Watch The Top 9 YouTube Videos Of The Week If ...\n",
       "200848           TECH  RIM CEO Thorsten Heins' 'Significant' Plans Fo...\n",
       "\n",
       "[146259 rows x 2 columns]"
      ]
     },
     "execution_count": 571,
     "metadata": {},
     "output_type": "execute_result"
    }
   ],
   "source": [
    "# Display the updated dataset\n",
    "df"
   ]
  },
  {
   "cell_type": "code",
   "execution_count": 572,
   "metadata": {},
   "outputs": [
    {
     "data": {
      "image/png": "[encoded data removed]",
      "text/plain": [
       "<Figure size 1000x500 with 1 Axes>"
      ]
     },
     "metadata": {},
     "output_type": "display_data"
    }
   ],
   "source": [
    "# Plot the count of each category before Downsampling\n",
    "plt.figure(figsize=(10, 5))\n",
    "sns.countplot(df['category'])\n",
    "plt.title('Count of Each Category before Downsampling')\n",
    "plt.show()"
   ]
  },
  {
   "cell_type": "code",
   "execution_count": 573,
   "metadata": {},
   "outputs": [],
   "source": [
    "# Downsampling\n",
    "from sklearn.utils import resample\n",
    "\n",
    "# Separate the dataset into different categories\n",
    "politics = df[df['category'] == 'POLITICS']\n",
    "wellness = df[df['category'] == 'WELLNESS']\n",
    "entertainment = df[df['category'] == 'ENTERTAINMENT']\n",
    "other_categories = df[(df['category'] != 'POLITICS') & (df['category'] != 'WELLNESS') & (df['category'] != 'ENTERTAINMENT')]\n",
    "\n",
    "# Downsample the categories with more than 10000 samples\n",
    "politics = resample(politics, replace=False, n_samples=10000, random_state=42)\n",
    "wellness = resample(wellness, replace=False, n_samples=10000, random_state=42)\n",
    "entertainment = resample(entertainment, replace=False, n_samples=10000, random_state=42)\n",
    "\n",
    "# Combine the downsampled categories back into a single dataframe\n",
    "df_downsampled = pd.concat([politics, wellness, entertainment])\n",
    "\n",
    "# Merge the downsampled dataframe with the dataframe of other categories\n",
    "df = pd.concat([other_categories, df_downsampled])"
   ]
  },
  {
   "cell_type": "code",
   "execution_count": 574,
   "metadata": {},
   "outputs": [
    {
     "data": {
      "image/png": "[encoded data removed]",
      "text/plain": [
       "<Figure size 1000x500 with 1 Axes>"
      ]
     },
     "metadata": {},
     "output_type": "display_data"
    }
   ],
   "source": [
    "# Plot the count of each category after downsampling\n",
    "plt.figure(figsize=(10, 5))\n",
    "sns.countplot(df['category'])\n",
    "plt.title('Count of Each Category After Downsampling')\n",
    "plt.show()"
   ]
  },
  {
   "cell_type": "code",
   "execution_count": 575,
   "metadata": {},
   "outputs": [],
   "source": [
    "# Count the number of samples in each category\n",
    "category_counts = df['category'].value_counts()\n",
    "\n",
    "# Get a list of categories that have less than 6000 samples\n",
    "categories_to_drop = category_counts[category_counts < 6000].index\n",
    "\n",
    "# Drop these categories from the dataframe\n",
    "df = df[~df['category'].isin(categories_to_drop)]"
   ]
  },
  {
   "cell_type": "code",
   "execution_count": 576,
   "metadata": {},
   "outputs": [
    {
     "data": {
      "image/png": "[encoded data removed]",
      "text/plain": [
       "<Figure size 1000x500 with 1 Axes>"
      ]
     },
     "metadata": {},
     "output_type": "display_data"
    }
   ],
   "source": [
    "plt.figure(figsize=(10, 5))\n",
    "sns.countplot(df['category'])\n",
    "plt.title('Count of Each Category')\n",
    "plt.show()"
   ]
  },
  {
   "cell_type": "code",
   "execution_count": 577,
   "metadata": {},
   "outputs": [],
   "source": [
    "# Reset the index\n",
    "df = df.reset_index(drop=True)"
   ]
  },
  {
   "cell_type": "code",
   "execution_count": 578,
   "metadata": {},
   "outputs": [
    {
     "data": {
      "text/html": [
       "<div>\n",
       "<style scoped>\n",
       "    .dataframe tbody tr th:only-of-type {\n",
       "        vertical-align: middle;\n",
       "    }\n",
       "\n",
       "    .dataframe tbody tr th {\n",
       "        vertical-align: top;\n",
       "    }\n",
       "\n",
       "    .dataframe thead th {\n",
       "        text-align: right;\n",
       "    }\n",
       "</style>\n",
       "<table border=\"1\" class=\"dataframe\">\n",
       "  <thead>\n",
       "    <tr style=\"text-align: right;\">\n",
       "      <th></th>\n",
       "      <th>category</th>\n",
       "      <th>text</th>\n",
       "    </tr>\n",
       "  </thead>\n",
       "  <tbody>\n",
       "    <tr>\n",
       "      <th>0</th>\n",
       "      <td>NEWS</td>\n",
       "      <td>Weird Father's Day Gifts Your Dad Doesn't Know...</td>\n",
       "    </tr>\n",
       "    <tr>\n",
       "      <th>1</th>\n",
       "      <td>NEWS</td>\n",
       "      <td>Mystery 'Wolf-Like' Animal Reportedly Shot In ...</td>\n",
       "    </tr>\n",
       "    <tr>\n",
       "      <th>2</th>\n",
       "      <td>NEWS</td>\n",
       "      <td>North Korea Still Open To Talks After Trump Ca...</td>\n",
       "    </tr>\n",
       "    <tr>\n",
       "      <th>3</th>\n",
       "      <td>NEWS</td>\n",
       "      <td>Thousands Travel Home To Ireland To Vote On Ab...</td>\n",
       "    </tr>\n",
       "    <tr>\n",
       "      <th>4</th>\n",
       "      <td>VOICES</td>\n",
       "      <td>Warriors Coach Steve Kerr Calls NFL Ban On Pro...</td>\n",
       "    </tr>\n",
       "    <tr>\n",
       "      <th>...</th>\n",
       "      <td>...</td>\n",
       "      <td>...</td>\n",
       "    </tr>\n",
       "    <tr>\n",
       "      <th>79732</th>\n",
       "      <td>ENTERTAINMENT</td>\n",
       "      <td>Jimmy Kimmel Coaxes Wild 48-Hour Marriage Stor...</td>\n",
       "    </tr>\n",
       "    <tr>\n",
       "      <th>79733</th>\n",
       "      <td>ENTERTAINMENT</td>\n",
       "      <td>Review: Captain America: The Winter Soldier Ri...</td>\n",
       "    </tr>\n",
       "    <tr>\n",
       "      <th>79734</th>\n",
       "      <td>ENTERTAINMENT</td>\n",
       "      <td>Aaron Eckhart Remembers Filming That 'Dark Kni...</td>\n",
       "    </tr>\n",
       "    <tr>\n",
       "      <th>79735</th>\n",
       "      <td>ENTERTAINMENT</td>\n",
       "      <td>The â€˜Friends' Theme Song, Performed By Your ...</td>\n",
       "    </tr>\n",
       "    <tr>\n",
       "      <th>79736</th>\n",
       "      <td>ENTERTAINMENT</td>\n",
       "      <td>'Suits' Creator Pens Heartfelt Open Letter Abo...</td>\n",
       "    </tr>\n",
       "  </tbody>\n",
       "</table>\n",
       "<p>79737 rows × 2 columns</p>\n",
       "</div>"
      ],
      "text/plain": [
       "            category                                               text\n",
       "0               NEWS  Weird Father's Day Gifts Your Dad Doesn't Know...\n",
       "1               NEWS  Mystery 'Wolf-Like' Animal Reportedly Shot In ...\n",
       "2               NEWS  North Korea Still Open To Talks After Trump Ca...\n",
       "3               NEWS  Thousands Travel Home To Ireland To Vote On Ab...\n",
       "4             VOICES  Warriors Coach Steve Kerr Calls NFL Ban On Pro...\n",
       "...              ...                                                ...\n",
       "79732  ENTERTAINMENT  Jimmy Kimmel Coaxes Wild 48-Hour Marriage Stor...\n",
       "79733  ENTERTAINMENT  Review: Captain America: The Winter Soldier Ri...\n",
       "79734  ENTERTAINMENT  Aaron Eckhart Remembers Filming That 'Dark Kni...\n",
       "79735  ENTERTAINMENT  The â€˜Friends' Theme Song, Performed By Your ...\n",
       "79736  ENTERTAINMENT  'Suits' Creator Pens Heartfelt Open Letter Abo...\n",
       "\n",
       "[79737 rows x 2 columns]"
      ]
     },
     "execution_count": 578,
     "metadata": {},
     "output_type": "execute_result"
    }
   ],
   "source": [
    "# Display the updated dataset\n",
    "df"
   ]
  },
  {
   "cell_type": "markdown",
   "metadata": {},
   "source": [
    "# -----------------------------------------------------------------------------"
   ]
  },
  {
   "cell_type": "markdown",
   "metadata": {},
   "source": [
    "# NLP"
   ]
  },
  {
   "cell_type": "code",
   "execution_count": null,
   "metadata": {},
   "outputs": [],
   "source": []
  },
  {
   "cell_type": "markdown",
   "metadata": {},
   "source": [
    "# -----------------------------------------------------------------------------"
   ]
  }
 ],
 "metadata": {
  "kernelspec": {
   "display_name": "Python 3",
   "language": "python",
   "name": "python3"
  },
  "language_info": {
   "codemirror_mode": {
    "name": "ipython",
    "version": 3
   },
   "file_extension": ".py",
   "mimetype": "text/x-python",
   "name": "python",
   "nbconvert_exporter": "python",
   "pygments_lexer": "ipython3",
   "version": "3.11.4"
  }
 },
 "nbformat": 4,
 "nbformat_minor": 2
}
